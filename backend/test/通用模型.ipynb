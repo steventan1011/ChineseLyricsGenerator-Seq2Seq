{
 "cells": [
  {
   "cell_type": "code",
   "execution_count": 1,
   "metadata": {
    "collapsed": true
   },
   "outputs": [],
   "source": [
    "import sys\n",
    "import random\n",
    "sys.path.append(\"..\")\n",
    "from data import Lyric\n",
    "from utils import model, attention_visualization"
   ]
  },
  {
   "cell_type": "code",
   "execution_count": 2,
   "metadata": {},
   "outputs": [
    {
     "name": "stderr",
     "output_type": "stream",
     "text": [
      "Building prefix dict from the default dictionary ...\n",
      "Dumping model to file cache /var/folders/dy/xjy0y7v97js5x1bghby2fnkm0000gn/T/jieba.cache\n",
      "Loading model cost 1.856 seconds.\n",
      "Prefix dict has been built succesfully.\n"
     ]
    }
   ],
   "source": [
    "dataset = Lyric(batch_size=128, fix_length=32, target_vocab_size=10000)\n",
    "net = model(dataset, model_name=\"pre_trained_50.pkl\", train=False)"
   ]
  },
  {
   "cell_type": "code",
   "execution_count": 3,
   "metadata": {
    "collapsed": true
   },
   "outputs": [],
   "source": [
    "def generator(title, total_sentence=16):\n",
    "    encoder_input = dataset.process(title)\n",
    "    song = []\n",
    "    for i in range(total_sentence):\n",
    "        s = []\n",
    "        output = net.predict(encoder_input)\n",
    "        word = dataset.logist2word(output)[0]\n",
    "        if word in dataset.itos[:50] + [s[0] for s in song[-3:]]:\n",
    "            word = dataset.logist2word(output, topn=3)\n",
    "            word = random.choice(word)\n",
    "        next_input = dataset.stoi[word]\n",
    "        s.append(word)\n",
    "        while word != \"<eos>\":\n",
    "            output = net.next(next_input)\n",
    "            word = dataset.logist2word(output)[0]\n",
    "            next_input = dataset.stoi[word]\n",
    "            s.append(word)\n",
    "        song.append(s[:-1])\n",
    "        encoder_input = dataset.process(\"\".join(s[:-1]))\n",
    "    song = [\"\".join(s) for s in song]\n",
    "    return song"
   ]
  },
  {
   "cell_type": "code",
   "execution_count": 8,
   "metadata": {},
   "outputs": [
    {
     "name": "stderr",
     "output_type": "stream",
     "text": [
      "/Users/dengxiuqi/anaconda3/lib/python3.6/site-packages/torch/nn/functional.py:1374: UserWarning: nn.functional.tanh is deprecated. Use torch.tanh instead.\n",
      "  warnings.warn(\"nn.functional.tanh is deprecated. Use torch.tanh instead.\")\n"
     ]
    },
    {
     "data": {
      "text/plain": [
       "['是我的宿命',\n",
       " '你是我的全部',\n",
       " '你是我的唯一',\n",
       " '这是我的骄傲',\n",
       " '我要珍惜共同失败',\n",
       " '你要用一生一起',\n",
       " '我要你爱我',\n",
       " '现在这一天',\n",
       " '感觉到了你',\n",
       " '我只要能遇见你',\n",
       " '爱是一种社会',\n",
       " '你让我感觉',\n",
       " '不要你的心里',\n",
       " '从我的心反覆时候',\n",
       " '你的态度',\n",
       " '你的心是否一样']"
      ]
     },
     "execution_count": 8,
     "metadata": {},
     "output_type": "execute_result"
    }
   ],
   "source": [
    "generator(\"爱情转移\")"
   ]
  },
  {
   "cell_type": "code",
   "execution_count": 9,
   "metadata": {},
   "outputs": [
    {
     "name": "stderr",
     "output_type": "stream",
     "text": [
      "/Users/dengxiuqi/anaconda3/lib/python3.6/site-packages/torch/nn/functional.py:1374: UserWarning: nn.functional.tanh is deprecated. Use torch.tanh instead.\n",
      "  warnings.warn(\"nn.functional.tanh is deprecated. Use torch.tanh instead.\")\n"
     ]
    },
    {
     "data": {
      "text/plain": [
       "['你的心我的心都是一样',\n",
       " '你是我的全部是我的',\n",
       " '这是我的爱情',\n",
       " '你的爱我的心',\n",
       " '爱你',\n",
       " '没有你',\n",
       " '我想你',\n",
       " '混蛋我想你我想你',\n",
       " '爱我就请你不要再想',\n",
       " '我说我想你',\n",
       " '让你代替你愿意',\n",
       " '看清楚你',\n",
       " '谁人能感受我',\n",
       " '如何可不知',\n",
       " '你的改变我已渐冷清',\n",
       " '你的温柔我的世界愈灿烂']"
      ]
     },
     "execution_count": 9,
     "metadata": {},
     "output_type": "execute_result"
    }
   ],
   "source": [
    "generator(\"倾城\")"
   ]
  },
  {
   "cell_type": "code",
   "execution_count": 11,
   "metadata": {},
   "outputs": [
    {
     "name": "stderr",
     "output_type": "stream",
     "text": [
      "/Users/dengxiuqi/anaconda3/lib/python3.6/site-packages/torch/nn/functional.py:1374: UserWarning: nn.functional.tanh is deprecated. Use torch.tanh instead.\n",
      "  warnings.warn(\"nn.functional.tanh is deprecated. Use torch.tanh instead.\")\n"
     ]
    },
    {
     "data": {
      "text/plain": [
       "['这是我的另一个',\n",
       " '这个世间的事',\n",
       " '珍惜是你',\n",
       " '永远是永远',\n",
       " '不变',\n",
       " '是你的我',\n",
       " '是你的我',\n",
       " '我要珍惜你的爱',\n",
       " '不会忘怀',\n",
       " '树上有大海',\n",
       " '歌唱在山岗',\n",
       " '也有歌唱的翅膀',\n",
       " '我俩听你说',\n",
       " '请你不要太高调',\n",
       " '你的美丽',\n",
       " '你的温柔']"
      ]
     },
     "execution_count": 11,
     "metadata": {},
     "output_type": "execute_result"
    }
   ],
   "source": [
    "generator(\"旅行的意义\")"
   ]
  },
  {
   "cell_type": "code",
   "execution_count": 14,
   "metadata": {},
   "outputs": [
    {
     "name": "stderr",
     "output_type": "stream",
     "text": [
      "/Users/dengxiuqi/anaconda3/lib/python3.6/site-packages/torch/nn/functional.py:1374: UserWarning: nn.functional.tanh is deprecated. Use torch.tanh instead.\n",
      "  warnings.warn(\"nn.functional.tanh is deprecated. Use torch.tanh instead.\")\n"
     ]
    },
    {
     "data": {
      "text/plain": [
       "['风里有一条蓝天',\n",
       " '歌唱呀',\n",
       " '转呀转',\n",
       " '转呀转',\n",
       " '开呀',\n",
       " '别问谁在拿着孤寂',\n",
       " '不知道谁不想谁',\n",
       " '淡淡的的眼泪',\n",
       " '我的心',\n",
       " '变成了幻影',\n",
       " '我决定',\n",
       " '这世界我要你知道',\n",
       " '这世界有多坏',\n",
       " '不需要什么只求',\n",
       " '我要你知道',\n",
       " '我们说的不是用来宠爱']"
      ]
     },
     "execution_count": 14,
     "metadata": {},
     "output_type": "execute_result"
    }
   ],
   "source": [
    "generator(\"晴天\")"
   ]
  },
  {
   "cell_type": "code",
   "execution_count": 15,
   "metadata": {},
   "outputs": [
    {
     "name": "stderr",
     "output_type": "stream",
     "text": [
      "/Users/dengxiuqi/anaconda3/lib/python3.6/site-packages/torch/nn/functional.py:1374: UserWarning: nn.functional.tanh is deprecated. Use torch.tanh instead.\n",
      "  warnings.warn(\"nn.functional.tanh is deprecated. Use torch.tanh instead.\")\n"
     ]
    },
    {
     "data": {
      "text/plain": [
       "['蔚蓝的天空',\n",
       " '照亮你的眼睛',\n",
       " '让我的心跳',\n",
       " '跟着我看著你',\n",
       " '哪里才会有个我',\n",
       " '什么都愿意',\n",
       " '谁都愿意',\n",
       " '为何我的心',\n",
       " '你的心我的心',\n",
       " '在我耳边',\n",
       " '随着你离去',\n",
       " '下次',\n",
       " '你是我的唯一',\n",
       " '你是我的我是你的',\n",
       " '人生的意义',\n",
       " '人生的快乐']"
      ]
     },
     "execution_count": 15,
     "metadata": {},
     "output_type": "execute_result"
    }
   ],
   "source": [
    "generator(\"小幸运\")"
   ]
  },
  {
   "cell_type": "code",
   "execution_count": 17,
   "metadata": {},
   "outputs": [
    {
     "name": "stderr",
     "output_type": "stream",
     "text": [
      "/Users/dengxiuqi/anaconda3/lib/python3.6/site-packages/torch/nn/functional.py:1374: UserWarning: nn.functional.tanh is deprecated. Use torch.tanh instead.\n",
      "  warnings.warn(\"nn.functional.tanh is deprecated. Use torch.tanh instead.\")\n"
     ]
    },
    {
     "data": {
      "text/plain": [
       "['你的眼睛也是我',\n",
       " '让我爱多些',\n",
       " '让我永远爱着你',\n",
       " '这是个梦',\n",
       " '等着你',\n",
       " '在你的世界里',\n",
       " '我的世界',\n",
       " '每个人都是你',\n",
       " '同着一个爱人',\n",
       " '走进你的爱',\n",
       " '走进你的世界',\n",
       " '这世界每个人没有人想',\n",
       " '不爱自己',\n",
       " '咦你我没有答案',\n",
       " '我问你爱你是否',\n",
       " '你说我说你爱我']"
      ]
     },
     "execution_count": 17,
     "metadata": {},
     "output_type": "execute_result"
    }
   ],
   "source": [
    "generator(\"年少有为\")"
   ]
  },
  {
   "cell_type": "code",
   "execution_count": 19,
   "metadata": {},
   "outputs": [
    {
     "name": "stderr",
     "output_type": "stream",
     "text": [
      "/Users/dengxiuqi/anaconda3/lib/python3.6/site-packages/torch/nn/functional.py:1374: UserWarning: nn.functional.tanh is deprecated. Use torch.tanh instead.\n",
      "  warnings.warn(\"nn.functional.tanh is deprecated. Use torch.tanh instead.\")\n"
     ]
    },
    {
     "data": {
      "text/plain": [
       "['你说天黑跟着我的心',\n",
       " '我想找不到你的时间',\n",
       " '你是否觉得只有我',\n",
       " '来的追赶的人',\n",
       " '天之来',\n",
       " '我知道你是谁',\n",
       " '为何还能时常想起',\n",
       " '彷徨的风里',\n",
       " '邓丽君演唱',\n",
       " '你的心我的心',\n",
       " '我的爱像一道墙',\n",
       " '我就是翅膀',\n",
       " '你是我的音乐',\n",
       " '好多云的雨',\n",
       " '吹得好可爱',\n",
       " '我们买新的挑战']"
      ]
     },
     "execution_count": 19,
     "metadata": {},
     "output_type": "execute_result"
    }
   ],
   "source": [
    "generator(\"春风十里\")"
   ]
  },
  {
   "cell_type": "code",
   "execution_count": 20,
   "metadata": {},
   "outputs": [
    {
     "name": "stderr",
     "output_type": "stream",
     "text": [
      "/Users/dengxiuqi/anaconda3/lib/python3.6/site-packages/torch/nn/functional.py:1374: UserWarning: nn.functional.tanh is deprecated. Use torch.tanh instead.\n",
      "  warnings.warn(\"nn.functional.tanh is deprecated. Use torch.tanh instead.\")\n"
     ]
    },
    {
     "data": {
      "text/plain": [
       "['我是真的付出',\n",
       " '你是我的天堂',\n",
       " '你是我的天堂',\n",
       " '像我的心',\n",
       " '好像越爱越不猜得太晚',\n",
       " '你的痛我的爱就是爱你',\n",
       " '我会我的心',\n",
       " '你是我的我',\n",
       " '我是你的宝贝',\n",
       " '我是你的宝贝',\n",
       " '是你的我是你的衣裳',\n",
       " '看你的名字',\n",
       " '看到你的容颜',\n",
       " '你的容颜',\n",
       " '仍是昨夜',\n",
       " '可不可再望']"
      ]
     },
     "execution_count": 20,
     "metadata": {},
     "output_type": "execute_result"
    }
   ],
   "source": [
    "generator(\"说谎\")"
   ]
  },
  {
   "cell_type": "code",
   "execution_count": 26,
   "metadata": {},
   "outputs": [
    {
     "name": "stderr",
     "output_type": "stream",
     "text": [
      "/Users/dengxiuqi/anaconda3/lib/python3.6/site-packages/torch/nn/functional.py:1374: UserWarning: nn.functional.tanh is deprecated. Use torch.tanh instead.\n",
      "  warnings.warn(\"nn.functional.tanh is deprecated. Use torch.tanh instead.\")\n"
     ]
    },
    {
     "data": {
      "text/plain": [
       "['我的双脚一直一直在等',\n",
       " '我的心情已经不再憔悴',\n",
       " '你的影子是我的轮廓',\n",
       " '不在心里的感觉',\n",
       " '我的心已经上瘾',\n",
       " '今天的你看来我的爱人',\n",
       " '这是我的唯一',\n",
       " '而我的心是很坚决',\n",
       " '我的爱像个心灵',\n",
       " '爱是永不分开',\n",
       " '爱是一场误会的等待',\n",
       " '爱是种无奈',\n",
       " '我的爱',\n",
       " '我的爱',\n",
       " '对你的欢喜',\n",
       " '被你推翻了']"
      ]
     },
     "execution_count": 26,
     "metadata": {},
     "output_type": "execute_result"
    }
   ],
   "source": [
    "generator(\"倒带\")"
   ]
  },
  {
   "cell_type": "code",
   "execution_count": 28,
   "metadata": {},
   "outputs": [
    {
     "name": "stderr",
     "output_type": "stream",
     "text": [
      "/Users/dengxiuqi/anaconda3/lib/python3.6/site-packages/torch/nn/functional.py:1374: UserWarning: nn.functional.tanh is deprecated. Use torch.tanh instead.\n",
      "  warnings.warn(\"nn.functional.tanh is deprecated. Use torch.tanh instead.\")\n"
     ]
    },
    {
     "data": {
      "image/png": "[encoded data removed]",
      "text/plain": [
       "<Figure size 432x288 with 1 Axes>"
      ]
     },
     "metadata": {},
     "output_type": "display_data"
    }
   ],
   "source": [
    "attention_visualization(dataset, net, \"我的双脚一直一直在等\", \"我的心情已经不再憔悴\", file_name=\"6\")"
   ]
  },
  {
   "cell_type": "code",
   "execution_count": null,
   "metadata": {
    "collapsed": true
   },
   "outputs": [],
   "source": []
  }
 ],
 "metadata": {
  "kernelspec": {
   "display_name": "Python 3",
   "language": "python",
   "name": "python3"
  },
  "language_info": {
   "codemirror_mode": {
    "name": "ipython",
    "version": 3
   },
   "file_extension": ".py",
   "mimetype": "text/x-python",
   "name": "python",
   "nbconvert_exporter": "python",
   "pygments_lexer": "ipython3",
   "version": "3.7.3"
  }
 },
 "nbformat": 4,
 "nbformat_minor": 2
}
